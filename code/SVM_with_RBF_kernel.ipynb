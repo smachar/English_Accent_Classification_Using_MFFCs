{
 "cells": [
  {
   "cell_type": "code",
   "execution_count": 17,
   "metadata": {},
   "outputs": [],
   "source": [
    "import json\n",
    "import numpy as np \n",
    "from matplotlib import pyplot as plt\n",
    "from sklearn.model_selection import GridSearchCV\n",
    "from sklearn.svm import SVC  \n",
    "from sklearn.metrics import classification_report, confusion_matrix,accuracy_score\n",
    "import pickle\n",
    "import time\n",
    "\n",
    "DATASET_PATH = \"json_wav_data\""
   ]
  },
  {
   "cell_type": "code",
   "execution_count": 2,
   "metadata": {},
   "outputs": [],
   "source": [
    "def load_data(dataset_path):\n",
    "    \"\"\"\n",
    "        Load the data from json file\n",
    "        return:\n",
    "            X represents the mffc in data\n",
    "            y represents the labels in data\n",
    "    \"\"\"\n",
    "    with open(dataset_path, \"r\") as f:\n",
    "        data = json.load(f)\n",
    "    \n",
    "    X = np.array(data[\"mfcc\"])\n",
    "    y = np.array(data[\"label\"])\n",
    "    y_label = np.array(data[\"name\"])\n",
    "\n",
    "    return X,y,y_label"
   ]
  },
  {
   "cell_type": "code",
   "execution_count": 7,
   "metadata": {
    "scrolled": false
   },
   "outputs": [
    {
     "name": "stdout",
     "output_type": "stream",
     "text": [
      "\n",
      "\n",
      "X_train shape (751944, 13) \n",
      "y_train shape (751944,)\n",
      "X_test shape (187986, 13) \n",
      "y_test shape (187986,)\n"
     ]
    }
   ],
   "source": [
    "def make_english_non_data(X_original):\n",
    "    \"\"\"\n",
    "    given an X_original data which contains all segments of all audios, we want to extract those of english speakers\n",
    "    and those of non-english speakers.\n",
    "    (the indices used below are found by examining X_original)\n",
    "    \n",
    "    \"\"\"\n",
    "    \n",
    "    #extracting english segments\n",
    "    X_original_english = X_original[1015:2470] #at y_original[1015==>2469]=37 => y_label[37] = english\n",
    "\n",
    "    #extracting non-english segments\n",
    "    X_original_non_english = np.concatenate([X_original[:1015], X_original[2470:]]) \n",
    "\n",
    "    #randomly sampling same number of non-english examples from english ones\n",
    "    \"\"\"this is because there are a lot of non-english samples than english ones, \n",
    "    so I tried to constract the same number as english \"randomly\" from non-english (it's not guaranteed\n",
    "    that the sampling will  be homogeneous).\n",
    "    I'll try other methods of sampling in futur\"\"\"\n",
    "    \n",
    "    random_indices = np.random.randint(X_original_non_english.shape[0], size=X_original_english.shape[0])\n",
    "    X_original_non_english = X_original_non_english[random_indices,:,:]\n",
    "\n",
    "    #reshaping from (n,m,q) to (n*m, q)\n",
    "    X_original_english = X_original_english.reshape((X_original_english.shape[0]*X_original_english.shape[1],X_original_english.shape[2]))\n",
    "    X_original_non_english = X_original_non_english.reshape((X_original_non_english.shape[0]*X_original_non_english.shape[1],X_original_non_english.shape[2]))\n",
    "\n",
    "    #creating output of english and non-english data\n",
    "    #output y is encoded as 0 for non-english speakers and 1 for english speakers\n",
    "    y_english = np.ones((X_original_english.shape[0],))\n",
    "    y_non_english = np.zeros((X_original_non_english.shape[0],))\n",
    "\n",
    "    #concatenating english and non english into X and y\n",
    "    X = np.concatenate((X_original_english, X_original_non_english))\n",
    "    y = np.concatenate((y_english, y_non_english))\n",
    "\n",
    "    return (X, y)"
   ]
  },
  {
   "cell_type": "code",
   "execution_count": null,
   "metadata": {},
   "outputs": [],
   "source": [
    "X_original, y_original, y_label = load_data(DATASET_PATH)\n",
    "print(\"X_original shape {} \\ny_original shape {}\".format(X.shape, y.shape))\n",
    "\n",
    "X, y = ake_english_non_data(X_original)\n",
    "print(\"X shape {} \\ny shape {}\".format(X.shape, y.shape))"
   ]
  },
  {
   "cell_type": "code",
   "execution_count": 5,
   "metadata": {
    "scrolled": true
   },
   "outputs": [
    {
     "name": "stdout",
     "output_type": "stream",
     "text": [
      "\n",
      "\n",
      "X_train shape (131590, 13) \n",
      "y_train shape (131590,)\n",
      "X_test shape (56396, 13) \n",
      "y_test shape (56396,)\n"
     ]
    }
   ],
   "source": [
    "\"\"\"\n",
    "for computational reasons the data is reduced by 80%\n",
    "\"\"\"\n",
    "#randomly sampling 20% from X and y\n",
    "n_points = len(X)\n",
    "X_s = X[np.random.choice(n_points, int(0.2*n_points)).tolist()]\n",
    "y_s = y[np.random.choice(n_points, int(0.2*n_points)).tolist()]\n",
    "\n",
    "\n",
    "#spliting the data into 80% for training and 30% for testing\n",
    "X_train, X_test, y_train, y_test = train_test_split(X_s, y_s, test_size = 0.30)\n",
    "print(\"X_train shape {} \\ny_train shape {}\".format(X_train.shape, y_train.shape))\n",
    "print(\"X_test shape {} \\ny_test shape {}\".format(X_test.shape, y_test.shape))"
   ]
  },
  {
   "cell_type": "code",
   "execution_count": 6,
   "metadata": {
    "scrolled": true
   },
   "outputs": [
    {
     "name": "stdout",
     "output_type": "stream",
     "text": [
      "Fitting 5 folds for each of 2 candidates, totalling 10 fits\n",
      "[CV] C=0.1, kernel=rbf ...............................................\n"
     ]
    },
    {
     "name": "stderr",
     "output_type": "stream",
     "text": [
      "[Parallel(n_jobs=1)]: Using backend SequentialBackend with 1 concurrent workers.\n"
     ]
    },
    {
     "name": "stdout",
     "output_type": "stream",
     "text": [
      "[CV] ................... C=0.1, kernel=rbf, score=0.502, total= 9.7min\n",
      "[CV] C=0.1, kernel=rbf ...............................................\n"
     ]
    },
    {
     "name": "stderr",
     "output_type": "stream",
     "text": [
      "[Parallel(n_jobs=1)]: Done   1 out of   1 | elapsed:  9.7min remaining:    0.0s\n"
     ]
    },
    {
     "name": "stdout",
     "output_type": "stream",
     "text": [
      "[CV] ................... C=0.1, kernel=rbf, score=0.504, total= 9.6min\n",
      "[CV] C=0.1, kernel=rbf ...............................................\n"
     ]
    },
    {
     "name": "stderr",
     "output_type": "stream",
     "text": [
      "[Parallel(n_jobs=1)]: Done   2 out of   2 | elapsed: 19.3min remaining:    0.0s\n"
     ]
    },
    {
     "name": "stdout",
     "output_type": "stream",
     "text": [
      "[CV] ................... C=0.1, kernel=rbf, score=0.503, total= 9.9min\n",
      "[CV] C=0.1, kernel=rbf ...............................................\n"
     ]
    },
    {
     "name": "stderr",
     "output_type": "stream",
     "text": [
      "[Parallel(n_jobs=1)]: Done   3 out of   3 | elapsed: 29.2min remaining:    0.0s\n"
     ]
    },
    {
     "name": "stdout",
     "output_type": "stream",
     "text": [
      "[CV] ................... C=0.1, kernel=rbf, score=0.505, total=17.3min\n",
      "[CV] C=0.1, kernel=rbf ...............................................\n"
     ]
    },
    {
     "name": "stderr",
     "output_type": "stream",
     "text": [
      "[Parallel(n_jobs=1)]: Done   4 out of   4 | elapsed: 46.5min remaining:    0.0s\n"
     ]
    },
    {
     "name": "stdout",
     "output_type": "stream",
     "text": [
      "[CV] ................... C=0.1, kernel=rbf, score=0.505, total=11.9min\n",
      "[CV] C=100, kernel=rbf ...............................................\n"
     ]
    },
    {
     "name": "stderr",
     "output_type": "stream",
     "text": [
      "[Parallel(n_jobs=1)]: Done   5 out of   5 | elapsed: 58.4min remaining:    0.0s\n"
     ]
    },
    {
     "name": "stdout",
     "output_type": "stream",
     "text": [
      "[CV] ................... C=100, kernel=rbf, score=0.501, total=18.1min\n",
      "[CV] C=100, kernel=rbf ...............................................\n"
     ]
    },
    {
     "name": "stderr",
     "output_type": "stream",
     "text": [
      "[Parallel(n_jobs=1)]: Done   6 out of   6 | elapsed: 76.5min remaining:    0.0s\n"
     ]
    },
    {
     "name": "stdout",
     "output_type": "stream",
     "text": [
      "[CV] ................... C=100, kernel=rbf, score=0.498, total=18.6min\n",
      "[CV] C=100, kernel=rbf ...............................................\n"
     ]
    },
    {
     "name": "stderr",
     "output_type": "stream",
     "text": [
      "[Parallel(n_jobs=1)]: Done   7 out of   7 | elapsed: 95.1min remaining:    0.0s\n"
     ]
    },
    {
     "name": "stdout",
     "output_type": "stream",
     "text": [
      "[CV] ................... C=100, kernel=rbf, score=0.500, total=18.1min\n",
      "[CV] C=100, kernel=rbf ...............................................\n"
     ]
    },
    {
     "name": "stderr",
     "output_type": "stream",
     "text": [
      "[Parallel(n_jobs=1)]: Done   8 out of   8 | elapsed: 113.2min remaining:    0.0s\n"
     ]
    },
    {
     "name": "stdout",
     "output_type": "stream",
     "text": [
      "[CV] ................... C=100, kernel=rbf, score=0.504, total=18.2min\n",
      "[CV] C=100, kernel=rbf ...............................................\n"
     ]
    },
    {
     "name": "stderr",
     "output_type": "stream",
     "text": [
      "[Parallel(n_jobs=1)]: Done   9 out of   9 | elapsed: 131.4min remaining:    0.0s\n"
     ]
    },
    {
     "name": "stdout",
     "output_type": "stream",
     "text": [
      "[CV] ................... C=100, kernel=rbf, score=0.502, total=18.4min\n"
     ]
    },
    {
     "name": "stderr",
     "output_type": "stream",
     "text": [
      "[Parallel(n_jobs=1)]: Done  10 out of  10 | elapsed: 149.8min finished\n"
     ]
    },
    {
     "name": "stdout",
     "output_type": "stream",
     "text": [
      "Execution time :9736.80957365036\n"
     ]
    }
   ],
   "source": [
    "tstart = time.time()\n",
    "\n",
    "#training svm (with rdbf kernel) model while tunning the C parameter.\n",
    "param_grid = {'C': [0.1,100], 'kernel': ['rbf']}\n",
    "grid = GridSearchCV(SVC(), param_grid,refit=True, verbose=10)\n",
    "\n",
    "grid.fit(X_train,y_train)\n",
    "\n",
    "\n",
    "tend = time.time()\n",
    "print(\"Execution time :{}\".format(tend-tstart))"
   ]
  },
  {
   "cell_type": "markdown",
   "metadata": {},
   "source": [
    "<b>Execution time : 2 hours and 42 minutes</b>"
   ]
  },
  {
   "cell_type": "code",
   "execution_count": null,
   "metadata": {},
   "outputs": [],
   "source": [
    "#evaluation\n",
    "print(grid.best_params_) \n",
    "predictions = grid.predict(X_test) "
   ]
  },
  {
   "cell_type": "code",
   "execution_count": 13,
   "metadata": {},
   "outputs": [
    {
     "data": {
      "text/plain": [
       "array([[49196, 44704],\n",
       "       [47312, 46774]])"
      ]
     },
     "execution_count": 13,
     "metadata": {},
     "output_type": "execute_result"
    }
   ],
   "source": [
    "confusion_matrix(y_test, predictions)"
   ]
  },
  {
   "cell_type": "code",
   "execution_count": 16,
   "metadata": {},
   "outputs": [
    {
     "data": {
      "text/plain": [
       "0.5105167406083432"
      ]
     },
     "execution_count": 16,
     "metadata": {},
     "output_type": "execute_result"
    }
   ],
   "source": [
    "accuracy_score(y_test, predictions)"
   ]
  },
  {
   "cell_type": "code",
   "execution_count": 12,
   "metadata": {},
   "outputs": [
    {
     "name": "stdout",
     "output_type": "stream",
     "text": [
      "              precision    recall  f1-score   support\n",
      "\n",
      "         0.0       0.51      0.52      0.52     93900\n",
      "         1.0       0.51      0.50      0.50     94086\n",
      "\n",
      "    accuracy                           0.51    187986\n",
      "   macro avg       0.51      0.51      0.51    187986\n",
      "weighted avg       0.51      0.51      0.51    187986\n",
      "\n"
     ]
    }
   ],
   "source": [
    "# print classification report \n",
    "print(classification_report(y_test, predictions))"
   ]
  },
  {
   "cell_type": "code",
   "execution_count": 18,
   "metadata": {},
   "outputs": [],
   "source": [
    "# save the model\n",
    "filename = 'models/SVM_rbf.sav'\n",
    "pickle.dump(grid, open(filename, 'wb'))"
   ]
  },
  {
   "cell_type": "code",
   "execution_count": 19,
   "metadata": {},
   "outputs": [],
   "source": [
    "# load the model\n",
    "model = pickle.load(open('models/SVM_rbf.sav', 'rb'))"
   ]
  }
 ],
 "metadata": {
  "kernelspec": {
   "display_name": "Python 3",
   "language": "python",
   "name": "python3"
  },
  "language_info": {
   "codemirror_mode": {
    "name": "ipython",
    "version": 3
   },
   "file_extension": ".py",
   "mimetype": "text/x-python",
   "name": "python",
   "nbconvert_exporter": "python",
   "pygments_lexer": "ipython3",
   "version": "3.6.9"
  }
 },
 "nbformat": 4,
 "nbformat_minor": 2
}
